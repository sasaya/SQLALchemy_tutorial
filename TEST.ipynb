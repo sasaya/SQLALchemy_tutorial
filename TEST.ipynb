{
 "cells": [
  {
   "cell_type": "code",
   "execution_count": 2,
   "metadata": {
    "collapsed": true
   },
   "outputs": [],
   "source": [
    "import sqlalchemy\n",
    "from sqlalchemy import create_engine\n",
    "engine = create_engine('sqlite:///example.db', echo = True)\n",
    "from sqlalchemy.ext.declarative import declarative_base\n",
    "Base = declarative_base()\n",
    "from sqlalchemy.orm import sessionmaker\n",
    "Session = sessionmaker(bind=engine)\n",
    "session = Session()\n",
    "import pandas as pd"
   ]
  },
  {
   "cell_type": "markdown",
   "metadata": {},
   "source": [
    "# Rerational datebase\n",
    "## テーブル"
   ]
  },
  {
   "cell_type": "code",
   "execution_count": 3,
   "metadata": {},
   "outputs": [
    {
     "name": "stdout",
     "output_type": "stream",
     "text": [
      "2018-01-21 11:42:55,723 INFO sqlalchemy.engine.base.Engine SELECT CAST('test plain returns' AS VARCHAR(60)) AS anon_1\n",
      "2018-01-21 11:42:55,729 INFO sqlalchemy.engine.base.Engine ()\n",
      "2018-01-21 11:42:55,732 INFO sqlalchemy.engine.base.Engine SELECT CAST('test unicode returns' AS VARCHAR(60)) AS anon_1\n",
      "2018-01-21 11:42:55,733 INFO sqlalchemy.engine.base.Engine ()\n",
      "2018-01-21 11:42:55,771 INFO sqlalchemy.engine.base.Engine PRAGMA table_info(\"users\")\n",
      "2018-01-21 11:42:55,775 INFO sqlalchemy.engine.base.Engine ()\n",
      "2018-01-21 11:42:55,841 INFO sqlalchemy.engine.base.Engine PRAGMA table_info(\"addresses\")\n",
      "2018-01-21 11:42:55,842 INFO sqlalchemy.engine.base.Engine ()\n"
     ]
    }
   ],
   "source": [
    "from sqlalchemy import Column, Integer, String, Float, Date, DateTime, SmallInteger, Boolean\n",
    "from sqlalchemy import ForeignKey\n",
    "from sqlalchemy.orm import relationship\n",
    "\n",
    "class User(Base):\n",
    "    __tablename__ = 'users'\n",
    "    \n",
    "    id = Column(Integer, primary_key = True)\n",
    "    name = Column(String)\n",
    "    fullname = Column(String)\n",
    "    password = Column(String)\n",
    "    \n",
    "    def __repr__(self):\n",
    "        return \"<User(name='%s', fullname='%s', password='%s')>\" % (self.name, self.fullname, self.password)\n",
    "    \n",
    "class Address(Base):\n",
    "     __tablename__ = 'addresses'\n",
    "     id = Column(Integer, primary_key=True)\n",
    "     email_address = Column(String, nullable=False)\n",
    "     user_id = Column(Integer, ForeignKey('users.id'))\n",
    "\n",
    "     user = relationship(\"User\", back_populates=\"addresses\")\n",
    "\n",
    "     def __repr__(self):\n",
    "         return \"<Address(email_address='%s')>\" % self.email_address\n",
    "\n",
    "User.addresses = relationship(\"Address\", order_by=Address.id, back_populates=\"user\")\n",
    "Base.metadata.create_all(engine)"
   ]
  },
  {
   "cell_type": "markdown",
   "metadata": {},
   "source": [
    "## データ挿入"
   ]
  },
  {
   "cell_type": "code",
   "execution_count": 4,
   "metadata": {
    "collapsed": true
   },
   "outputs": [],
   "source": [
    "jack = User(name='jack', fullname='Jack Bean', password='gjffdd')"
   ]
  },
  {
   "cell_type": "code",
   "execution_count": 5,
   "metadata": {
    "collapsed": true
   },
   "outputs": [],
   "source": [
    "bob = pd.read_csv('man.csv')"
   ]
  },
  {
   "cell_type": "code",
   "execution_count": 6,
   "metadata": {},
   "outputs": [
    {
     "name": "stdout",
     "output_type": "stream",
     "text": [
      "2018-01-21 11:42:56,649 INFO sqlalchemy.engine.base.Engine PRAGMA table_info(\"users\")\n",
      "2018-01-21 11:42:56,651 INFO sqlalchemy.engine.base.Engine ()\n",
      "2018-01-21 11:42:56,656 INFO sqlalchemy.engine.base.Engine BEGIN (implicit)\n",
      "2018-01-21 11:42:56,658 INFO sqlalchemy.engine.base.Engine INSERT INTO users (name, fullname, password) VALUES (?, ?, ?)\n",
      "2018-01-21 11:42:56,659 INFO sqlalchemy.engine.base.Engine ('bob', 'Bob North', 'bbor')\n",
      "2018-01-21 11:42:56,832 INFO sqlalchemy.engine.base.Engine COMMIT\n"
     ]
    }
   ],
   "source": [
    "bob.to_sql('users', engine, index=False, if_exists='append')"
   ]
  },
  {
   "cell_type": "code",
   "execution_count": 7,
   "metadata": {},
   "outputs": [
    {
     "data": {
      "text/plain": [
       "[]"
      ]
     },
     "execution_count": 7,
     "metadata": {},
     "output_type": "execute_result"
    }
   ],
   "source": [
    "jack.addresses"
   ]
  },
  {
   "cell_type": "code",
   "execution_count": 8,
   "metadata": {
    "collapsed": true
   },
   "outputs": [],
   "source": [
    "jack.addresses = [\n",
    "                 Address(email_address='jack@google.com'),\n",
    "                 Address(email_address='j25@yahoo.com')]"
   ]
  },
  {
   "cell_type": "code",
   "execution_count": 9,
   "metadata": {},
   "outputs": [
    {
     "data": {
      "text/plain": [
       "<Address(email_address='j25@yahoo.com')>"
      ]
     },
     "execution_count": 9,
     "metadata": {},
     "output_type": "execute_result"
    }
   ],
   "source": [
    "jack.addresses[1]"
   ]
  },
  {
   "cell_type": "code",
   "execution_count": 10,
   "metadata": {},
   "outputs": [
    {
     "data": {
      "text/plain": [
       "<User(name='jack', fullname='Jack Bean', password='gjffdd')>"
      ]
     },
     "execution_count": 10,
     "metadata": {},
     "output_type": "execute_result"
    }
   ],
   "source": [
    "jack.addresses[1].user"
   ]
  },
  {
   "cell_type": "code",
   "execution_count": 11,
   "metadata": {
    "collapsed": true
   },
   "outputs": [],
   "source": [
    "session.add(jack)"
   ]
  },
  {
   "cell_type": "code",
   "execution_count": 12,
   "metadata": {},
   "outputs": [
    {
     "name": "stdout",
     "output_type": "stream",
     "text": [
      "2018-01-21 11:42:58,274 INFO sqlalchemy.engine.base.Engine BEGIN (implicit)\n",
      "2018-01-21 11:42:58,276 INFO sqlalchemy.engine.base.Engine INSERT INTO users (name, fullname, password) VALUES (?, ?, ?)\n",
      "2018-01-21 11:42:58,278 INFO sqlalchemy.engine.base.Engine ('jack', 'Jack Bean', 'gjffdd')\n",
      "2018-01-21 11:42:58,373 INFO sqlalchemy.engine.base.Engine INSERT INTO addresses (email_address, user_id) VALUES (?, ?)\n",
      "2018-01-21 11:42:58,374 INFO sqlalchemy.engine.base.Engine ('jack@google.com', 4)\n",
      "2018-01-21 11:42:58,376 INFO sqlalchemy.engine.base.Engine INSERT INTO addresses (email_address, user_id) VALUES (?, ?)\n",
      "2018-01-21 11:42:58,378 INFO sqlalchemy.engine.base.Engine ('j25@yahoo.com', 4)\n",
      "2018-01-21 11:42:58,380 INFO sqlalchemy.engine.base.Engine COMMIT\n"
     ]
    }
   ],
   "source": [
    "session.commit()"
   ]
  },
  {
   "cell_type": "code",
   "execution_count": 13,
   "metadata": {},
   "outputs": [
    {
     "name": "stdout",
     "output_type": "stream",
     "text": [
      "2018-01-21 11:42:58,580 INFO sqlalchemy.engine.base.Engine BEGIN (implicit)\n",
      "2018-01-21 11:42:58,585 INFO sqlalchemy.engine.base.Engine SELECT users.id AS users_id, users.name AS users_name, users.fullname AS users_fullname, users.password AS users_password \n",
      "FROM users\n",
      "2018-01-21 11:42:58,586 INFO sqlalchemy.engine.base.Engine ()\n"
     ]
    },
    {
     "data": {
      "text/plain": [
       "[<User(name='bob', fullname='Bob North', password='bbor')>,\n",
       " <User(name='jack', fullname='Jack Bean', password='gjffdd')>,\n",
       " <User(name='bob', fullname='Bob North', password='bbor')>,\n",
       " <User(name='jack', fullname='Jack Bean', password='gjffdd')>]"
      ]
     },
     "execution_count": 13,
     "metadata": {},
     "output_type": "execute_result"
    }
   ],
   "source": [
    "session.query(User).all()"
   ]
  },
  {
   "cell_type": "code",
   "execution_count": 14,
   "metadata": {},
   "outputs": [
    {
     "name": "stdout",
     "output_type": "stream",
     "text": [
      "2018-01-21 11:42:58,715 INFO sqlalchemy.engine.base.Engine SELECT addresses.id AS addresses_id, addresses.email_address AS addresses_email_address, addresses.user_id AS addresses_user_id \n",
      "FROM addresses\n",
      "2018-01-21 11:42:58,717 INFO sqlalchemy.engine.base.Engine ()\n"
     ]
    },
    {
     "data": {
      "text/plain": [
       "[<Address(email_address='jack@google.com')>,\n",
       " <Address(email_address='j25@yahoo.com')>,\n",
       " <Address(email_address='jack@google.com')>,\n",
       " <Address(email_address='j25@yahoo.com')>]"
      ]
     },
     "execution_count": 14,
     "metadata": {},
     "output_type": "execute_result"
    }
   ],
   "source": [
    "session.query(Address).all()"
   ]
  },
  {
   "cell_type": "markdown",
   "metadata": {},
   "source": [
    "## データの全削除"
   ]
  },
  {
   "cell_type": "code",
   "execution_count": 15,
   "metadata": {
    "collapsed": true
   },
   "outputs": [],
   "source": [
    "#session.query(User).delete()\n",
    "#session.query(Address).delete()\n",
    "#session.commit()"
   ]
  },
  {
   "cell_type": "code",
   "execution_count": null,
   "metadata": {
    "collapsed": true
   },
   "outputs": [],
   "source": []
  }
 ],
 "metadata": {
  "kernelspec": {
   "display_name": "Python 3",
   "language": "python",
   "name": "python3"
  },
  "language_info": {
   "codemirror_mode": {
    "name": "ipython",
    "version": 3
   },
   "file_extension": ".py",
   "mimetype": "text/x-python",
   "name": "python",
   "nbconvert_exporter": "python",
   "pygments_lexer": "ipython3",
   "version": "3.6.2"
  }
 },
 "nbformat": 4,
 "nbformat_minor": 2
}
